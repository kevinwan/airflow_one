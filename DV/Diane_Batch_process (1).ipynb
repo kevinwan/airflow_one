{
 "cells": [
  {
   "cell_type": "code",
   "execution_count": 1,
   "metadata": {},
   "outputs": [
    {
     "data": {
      "text/plain": [
       "2"
      ]
     },
     "execution_count": 1,
     "metadata": {},
     "output_type": "execute_result"
    }
   ],
   "source": [
    "#loads data into table\n",
    "import os\n",
    "import configparser\n",
    "# get all the connections\n",
    "username_AVS = 'verosdq'\n",
    "password_AVS = 'verosdqrac'\n",
    "SQL_LOAD=r'sqlldr userid='+username_AVS+'/\\\\\"'+password_AVS+'\\\\\"@\\\\\"(DESCRIPTION =(ADDRESS = (PROTOCOL = TCP)(HOST = DB.DEV.VV.VEROSAPPS.COM)(PORT = 1521))(CONNECT_DATA =(SERVICE_NAME = VVDEVDB_TAF)))\\\\\" control=E:\\SQLLDR\\DV_CALIBER.CTL'\n",
    "os.system(SQL_LOAD)"
   ]
  },
  {
   "cell_type": "code",
   "execution_count": 3,
   "metadata": {},
   "outputs": [
    {
     "name": "stdout",
     "output_type": "stream",
     "text": [
      "3\n"
     ]
    }
   ],
   "source": [
    "#Loads data into AVS processing\n",
    "#Output is number of transactions loaded\n",
    "import csv\n",
    "import cx_Oracle\n",
    "import os\n",
    "def get_order_count():\n",
    "    try:\n",
    "        # create a connection to the Oracle Database\n",
    "        dsn_tns = cx_Oracle.makedsn('DB.DEV.VV.VEROSAPPS.COM', '1521', service_name='vvdevdb_taf') #if needed, place an 'r' before any parameter in order to address any special character such as '\\'.\n",
    "        with cx_Oracle.connect(user=username_AVS, password=password_AVS, dsn=dsn_tns) as connection:\n",
    "            # create a new cursor\n",
    "            with connection.cursor() as cursor:\n",
    "                # create a new variable to hold the value of the\n",
    "                # OUT parameter\n",
    "                order_count = cursor.var(int)\n",
    "                # call the stored procedure\n",
    "                cursor.callproc('TRY_DV_AVS',[order_count])\n",
    "                return order_count.getvalue()\n",
    "    except cx_Oracle.Error as error:\n",
    "        print(error)\n",
    "\n",
    "\n",
    "if __name__ == '__main__':\n",
    "   orders = get_order_count()\n",
    "   print(orders)  # 3"
   ]
  },
  {
   "cell_type": "code",
   "execution_count": 4,
   "metadata": {},
   "outputs": [
    {
     "name": "stdout",
     "output_type": "stream",
     "text": [
      "1\n"
     ]
    }
   ],
   "source": [
    "#Checking whether AVS is complete or not, 1 - complete, 0- in process\n",
    "import csv\n",
    "import cx_Oracle\n",
    "import os\n",
    "def TRY_DV_AVS_CHECK1():\n",
    "    try:\n",
    "        # create a connection to the Oracle Database\n",
    "        dsn_tns = cx_Oracle.makedsn('DB.DEV.VV.VEROSAPPS.COM', '1521', service_name='vvdevdb_taf') #if needed, place an 'r' before any parameter in order to address any special character such as '\\'.\n",
    "        with cx_Oracle.connect(user=username_AVS, password=password_AVS, dsn=dsn_tns) as connection:\n",
    "            # create a new cursor\n",
    "            with connection.cursor() as cursor:\n",
    "                # create a new variable to hold the value of the\n",
    "                # OUT parameter\n",
    "                order_count = cursor.var(int)\n",
    "                # call the stored procedure\n",
    "                cursor.callproc('TRY_DV_AVS_CHECK1',[order_count])\n",
    "                return order_count.getvalue()\n",
    "    except cx_Oracle.Error as error:\n",
    "        print(error)\n",
    "\n",
    "\n",
    "if __name__ == '__main__':\n",
    "   orders = TRY_DV_AVS_CHECK1()\n",
    "   print(orders)  # 3"
   ]
  },
  {
   "cell_type": "code",
   "execution_count": 5,
   "metadata": {},
   "outputs": [
    {
     "name": "stdout",
     "output_type": "stream",
     "text": [
      "3\n"
     ]
    }
   ],
   "source": [
    "#Matches with AVM info main table and gets seqno \n",
    "#Matches with disaster data and identifies if property in the disaster\n",
    "#Matches the A15 to get the VeroValue\n",
    "#Output- total # of transactions client sent (from step 2)\n",
    "#If it does not match then those have to be done manually as the next step\n",
    "import csv\n",
    "import cx_Oracle\n",
    "import os\n",
    "def TRY_DV_AVS_PROCESS_STEP1():\n",
    "    try:\n",
    "        # create a connection to the Oracle Database\n",
    "        dsn_tns = cx_Oracle.makedsn('DB.DEV.VV.VEROSAPPS.COM', '1521', service_name='vvdevdb_taf') #if needed, place an 'r' before any parameter in order to address any special character such as '\\'.\n",
    "        with cx_Oracle.connect(user=username_AVS, password=password_AVS, dsn=dsn_tns) as connection:\n",
    "            # create a new cursor\n",
    "            with connection.cursor() as cursor:\n",
    "                # create a new variable to hold the value of the\n",
    "                # OUT parameter\n",
    "                order_count = cursor.var(int)\n",
    "                # call the stored procedure\n",
    "                cursor.callproc('TRY_DV_AVS_PROCESS_STEP1',[order_count])\n",
    "                return order_count.getvalue()\n",
    "    except cx_Oracle.Error as error:\n",
    "        print(error)\n",
    "\n",
    "\n",
    "if __name__ == '__main__':\n",
    "   orders = TRY_DV_AVS_PROCESS_STEP1()\n",
    "   print(orders)  # 3"
   ]
  },
  {
   "cell_type": "code",
   "execution_count": 6,
   "metadata": {},
   "outputs": [],
   "source": [
    "#extract data from oracle for excel file processing\n",
    "import pysftp\n",
    "import sys\n",
    "import os\n",
    "import zipfile\n",
    "import pandas as pd\n",
    "import time\n",
    "import pysftp\n",
    "import sys\n",
    "import os\n",
    "import zipfile\n",
    "import pandas as pd\n",
    "import time\n",
    "import configparser\n",
    "import numpy as np\n",
    "import cx_Oracle as orcCon\n",
    "from cx_Oracle import DatabaseError\n",
    "dsn_tns = orcCon.makedsn('DB.DEV.VV.VEROSAPPS.COM', '1521', service_name='vvdevdb_taf') #if needed, place an 'r' before any parameter in order to address any special character such as '\\'.\n",
    "conn = orcCon.connect(user=username_AVS, password=password_AVS, dsn=dsn_tns)\n",
    "sql = 'SELECT * from  SBHUPATHIRAJU.DV_Final_step_table_stg'\n",
    "Maindf = pd.read_sql(sql, conn)\n",
    "df2=Maindf\n",
    "columns = ['AVS_LATITUDE', 'AVS_LONGITUDE']\n",
    "df2 = df2.drop(columns, axis=1)"
   ]
  },
  {
   "cell_type": "code",
   "execution_count": 7,
   "metadata": {},
   "outputs": [
    {
     "data": {
      "text/html": [
       "<div style=\"width:100%;\"><div style=\"position:relative;width:100%;height:0;padding-bottom:60%;\"><span style=\"color:#565656\">Make this Notebook Trusted to load map: File -> Trust Notebook</span><iframe src=\"about:blank\" style=\"position:absolute;width:100%;height:100%;left:0;top:0;border:none !important;\" data-html=%3C%21DOCTYPE%20html%3E%0A%3Chead%3E%20%20%20%20%0A%20%20%20%20%3Cmeta%20http-equiv%3D%22content-type%22%20content%3D%22text/html%3B%20charset%3DUTF-8%22%20/%3E%0A%20%20%20%20%0A%20%20%20%20%20%20%20%20%3Cscript%3E%0A%20%20%20%20%20%20%20%20%20%20%20%20L_NO_TOUCH%20%3D%20false%3B%0A%20%20%20%20%20%20%20%20%20%20%20%20L_DISABLE_3D%20%3D%20false%3B%0A%20%20%20%20%20%20%20%20%3C/script%3E%0A%20%20%20%20%0A%20%20%20%20%3Cstyle%3Ehtml%2C%20body%20%7Bwidth%3A%20100%25%3Bheight%3A%20100%25%3Bmargin%3A%200%3Bpadding%3A%200%3B%7D%3C/style%3E%0A%20%20%20%20%3Cstyle%3E%23map%20%7Bposition%3Aabsolute%3Btop%3A0%3Bbottom%3A0%3Bright%3A0%3Bleft%3A0%3B%7D%3C/style%3E%0A%20%20%20%20%3Cscript%20src%3D%22https%3A//cdn.jsdelivr.net/npm/leaflet%401.6.0/dist/leaflet.js%22%3E%3C/script%3E%0A%20%20%20%20%3Cscript%20src%3D%22https%3A//code.jquery.com/jquery-1.12.4.min.js%22%3E%3C/script%3E%0A%20%20%20%20%3Cscript%20src%3D%22https%3A//maxcdn.bootstrapcdn.com/bootstrap/3.2.0/js/bootstrap.min.js%22%3E%3C/script%3E%0A%20%20%20%20%3Cscript%20src%3D%22https%3A//cdnjs.cloudflare.com/ajax/libs/Leaflet.awesome-markers/2.0.2/leaflet.awesome-markers.js%22%3E%3C/script%3E%0A%20%20%20%20%3Clink%20rel%3D%22stylesheet%22%20href%3D%22https%3A//cdn.jsdelivr.net/npm/leaflet%401.6.0/dist/leaflet.css%22/%3E%0A%20%20%20%20%3Clink%20rel%3D%22stylesheet%22%20href%3D%22https%3A//maxcdn.bootstrapcdn.com/bootstrap/3.2.0/css/bootstrap.min.css%22/%3E%0A%20%20%20%20%3Clink%20rel%3D%22stylesheet%22%20href%3D%22https%3A//maxcdn.bootstrapcdn.com/bootstrap/3.2.0/css/bootstrap-theme.min.css%22/%3E%0A%20%20%20%20%3Clink%20rel%3D%22stylesheet%22%20href%3D%22https%3A//maxcdn.bootstrapcdn.com/font-awesome/4.6.3/css/font-awesome.min.css%22/%3E%0A%20%20%20%20%3Clink%20rel%3D%22stylesheet%22%20href%3D%22https%3A//cdnjs.cloudflare.com/ajax/libs/Leaflet.awesome-markers/2.0.2/leaflet.awesome-markers.css%22/%3E%0A%20%20%20%20%3Clink%20rel%3D%22stylesheet%22%20href%3D%22https%3A//cdn.jsdelivr.net/gh/python-visualization/folium/folium/templates/leaflet.awesome.rotate.min.css%22/%3E%0A%20%20%20%20%0A%20%20%20%20%20%20%20%20%20%20%20%20%3Cmeta%20name%3D%22viewport%22%20content%3D%22width%3Ddevice-width%2C%0A%20%20%20%20%20%20%20%20%20%20%20%20%20%20%20%20initial-scale%3D1.0%2C%20maximum-scale%3D1.0%2C%20user-scalable%3Dno%22%20/%3E%0A%20%20%20%20%20%20%20%20%20%20%20%20%3Cstyle%3E%0A%20%20%20%20%20%20%20%20%20%20%20%20%20%20%20%20%23map_98d00375db964333baaf056950982208%20%7B%0A%20%20%20%20%20%20%20%20%20%20%20%20%20%20%20%20%20%20%20%20position%3A%20relative%3B%0A%20%20%20%20%20%20%20%20%20%20%20%20%20%20%20%20%20%20%20%20width%3A%20100.0%25%3B%0A%20%20%20%20%20%20%20%20%20%20%20%20%20%20%20%20%20%20%20%20height%3A%20100.0%25%3B%0A%20%20%20%20%20%20%20%20%20%20%20%20%20%20%20%20%20%20%20%20left%3A%200.0%25%3B%0A%20%20%20%20%20%20%20%20%20%20%20%20%20%20%20%20%20%20%20%20top%3A%200.0%25%3B%0A%20%20%20%20%20%20%20%20%20%20%20%20%20%20%20%20%7D%0A%20%20%20%20%20%20%20%20%20%20%20%20%3C/style%3E%0A%20%20%20%20%20%20%20%20%0A%3C/head%3E%0A%3Cbody%3E%20%20%20%20%0A%20%20%20%20%0A%20%20%20%20%20%20%20%20%20%20%20%20%3Cdiv%20class%3D%22folium-map%22%20id%3D%22map_98d00375db964333baaf056950982208%22%20%3E%3C/div%3E%0A%20%20%20%20%20%20%20%20%0A%3C/body%3E%0A%3Cscript%3E%20%20%20%20%0A%20%20%20%20%0A%20%20%20%20%20%20%20%20%20%20%20%20var%20map_98d00375db964333baaf056950982208%20%3D%20L.map%28%0A%20%20%20%20%20%20%20%20%20%20%20%20%20%20%20%20%22map_98d00375db964333baaf056950982208%22%2C%0A%20%20%20%20%20%20%20%20%20%20%20%20%20%20%20%20%7B%0A%20%20%20%20%20%20%20%20%20%20%20%20%20%20%20%20%20%20%20%20center%3A%20%5B37.6%2C%20-95.665%5D%2C%0A%20%20%20%20%20%20%20%20%20%20%20%20%20%20%20%20%20%20%20%20crs%3A%20L.CRS.EPSG3857%2C%0A%20%20%20%20%20%20%20%20%20%20%20%20%20%20%20%20%20%20%20%20zoom%3A%204.35%2C%0A%20%20%20%20%20%20%20%20%20%20%20%20%20%20%20%20%20%20%20%20zoomControl%3A%20true%2C%0A%20%20%20%20%20%20%20%20%20%20%20%20%20%20%20%20%20%20%20%20preferCanvas%3A%20false%2C%0A%20%20%20%20%20%20%20%20%20%20%20%20%20%20%20%20%7D%0A%20%20%20%20%20%20%20%20%20%20%20%20%29%3B%0A%0A%20%20%20%20%20%20%20%20%20%20%20%20%0A%0A%20%20%20%20%20%20%20%20%0A%20%20%20%20%0A%20%20%20%20%20%20%20%20%20%20%20%20var%20tile_layer_5cc028cc303043c58f6a8814d229bc39%20%3D%20L.tileLayer%28%0A%20%20%20%20%20%20%20%20%20%20%20%20%20%20%20%20%22https%3A//%7Bs%7D.tile.openstreetmap.org/%7Bz%7D/%7Bx%7D/%7By%7D.png%22%2C%0A%20%20%20%20%20%20%20%20%20%20%20%20%20%20%20%20%7B%22attribution%22%3A%20%22Data%20by%20%5Cu0026copy%3B%20%5Cu003ca%20href%3D%5C%22http%3A//openstreetmap.org%5C%22%5Cu003eOpenStreetMap%5Cu003c/a%5Cu003e%2C%20under%20%5Cu003ca%20href%3D%5C%22http%3A//www.openstreetmap.org/copyright%5C%22%5Cu003eODbL%5Cu003c/a%5Cu003e.%22%2C%20%22detectRetina%22%3A%20false%2C%20%22maxNativeZoom%22%3A%2018%2C%20%22maxZoom%22%3A%2018%2C%20%22minZoom%22%3A%200%2C%20%22noWrap%22%3A%20false%2C%20%22opacity%22%3A%201%2C%20%22subdomains%22%3A%20%22abc%22%2C%20%22tms%22%3A%20false%7D%0A%20%20%20%20%20%20%20%20%20%20%20%20%29.addTo%28map_98d00375db964333baaf056950982208%29%3B%0A%20%20%20%20%20%20%20%20%0A%20%20%20%20%0A%20%20%20%20%20%20%20%20%20%20%20%20var%20marker_8f7928cc83e34c35a281730704485593%20%3D%20L.marker%28%0A%20%20%20%20%20%20%20%20%20%20%20%20%20%20%20%20%5B30.852399%2C%20-88.049723%5D%2C%0A%20%20%20%20%20%20%20%20%20%20%20%20%20%20%20%20%7B%7D%0A%20%20%20%20%20%20%20%20%20%20%20%20%29.addTo%28map_98d00375db964333baaf056950982208%29%3B%0A%20%20%20%20%20%20%20%20%0A%20%20%20%20%0A%20%20%20%20%20%20%20%20%20%20%20%20var%20icon_ea57ae0b1e434618b4e0eccb11b5b07d%20%3D%20L.AwesomeMarkers.icon%28%0A%20%20%20%20%20%20%20%20%20%20%20%20%20%20%20%20%7B%22extraClasses%22%3A%20%22fa-rotate-0%22%2C%20%22icon%22%3A%20%22home%22%2C%20%22iconColor%22%3A%20%22white%22%2C%20%22markerColor%22%3A%20%22green%22%2C%20%22prefix%22%3A%20%22fa%22%7D%0A%20%20%20%20%20%20%20%20%20%20%20%20%29%3B%0A%20%20%20%20%20%20%20%20%20%20%20%20marker_8f7928cc83e34c35a281730704485593.setIcon%28icon_ea57ae0b1e434618b4e0eccb11b5b07d%29%3B%0A%20%20%20%20%20%20%20%20%0A%20%20%20%20%0A%20%20%20%20%20%20%20%20%20%20%20%20var%20marker_47c3b5a4c90c4d0e9164b5fddd832f81%20%3D%20L.marker%28%0A%20%20%20%20%20%20%20%20%20%20%20%20%20%20%20%20%5B38.655059%2C%20-121.305384%5D%2C%0A%20%20%20%20%20%20%20%20%20%20%20%20%20%20%20%20%7B%7D%0A%20%20%20%20%20%20%20%20%20%20%20%20%29.addTo%28map_98d00375db964333baaf056950982208%29%3B%0A%20%20%20%20%20%20%20%20%0A%20%20%20%20%0A%20%20%20%20%20%20%20%20%20%20%20%20var%20icon_7334dee8d3774a45a8990d8e2e4326c1%20%3D%20L.AwesomeMarkers.icon%28%0A%20%20%20%20%20%20%20%20%20%20%20%20%20%20%20%20%7B%22extraClasses%22%3A%20%22fa-rotate-0%22%2C%20%22icon%22%3A%20%22home%22%2C%20%22iconColor%22%3A%20%22white%22%2C%20%22markerColor%22%3A%20%22green%22%2C%20%22prefix%22%3A%20%22fa%22%7D%0A%20%20%20%20%20%20%20%20%20%20%20%20%29%3B%0A%20%20%20%20%20%20%20%20%20%20%20%20marker_47c3b5a4c90c4d0e9164b5fddd832f81.setIcon%28icon_7334dee8d3774a45a8990d8e2e4326c1%29%3B%0A%20%20%20%20%20%20%20%20%0A%20%20%20%20%0A%20%20%20%20%20%20%20%20%20%20%20%20var%20marker_c2b0e79d28514d7e8c1229eb0dda14b5%20%3D%20L.marker%28%0A%20%20%20%20%20%20%20%20%20%20%20%20%20%20%20%20%5B37.811742%2C%20-122.28497%5D%2C%0A%20%20%20%20%20%20%20%20%20%20%20%20%20%20%20%20%7B%7D%0A%20%20%20%20%20%20%20%20%20%20%20%20%29.addTo%28map_98d00375db964333baaf056950982208%29%3B%0A%20%20%20%20%20%20%20%20%0A%20%20%20%20%0A%20%20%20%20%20%20%20%20%20%20%20%20var%20icon_dd46cb483bbc40f599ffe1f841e5c483%20%3D%20L.AwesomeMarkers.icon%28%0A%20%20%20%20%20%20%20%20%20%20%20%20%20%20%20%20%7B%22extraClasses%22%3A%20%22fa-rotate-0%22%2C%20%22icon%22%3A%20%22home%22%2C%20%22iconColor%22%3A%20%22white%22%2C%20%22markerColor%22%3A%20%22green%22%2C%20%22prefix%22%3A%20%22fa%22%7D%0A%20%20%20%20%20%20%20%20%20%20%20%20%29%3B%0A%20%20%20%20%20%20%20%20%20%20%20%20marker_c2b0e79d28514d7e8c1229eb0dda14b5.setIcon%28icon_dd46cb483bbc40f599ffe1f841e5c483%29%3B%0A%20%20%20%20%20%20%20%20%0A%3C/script%3E onload=\"this.contentDocument.open();this.contentDocument.write(    decodeURIComponent(this.getAttribute('data-html')));this.contentDocument.close();\" allowfullscreen webkitallowfullscreen mozallowfullscreen></iframe></div></div>"
      ],
      "text/plain": [
       "<folium.folium.Map at 0xef83ab2a60>"
      ]
     },
     "execution_count": 7,
     "metadata": {},
     "output_type": "execute_result"
    }
   ],
   "source": [
    "#to get the map \n",
    "import numpy as np\n",
    "\n",
    "import matplotlib.pyplot as plt\n",
    "%matplotlib inline\n",
    "\n",
    "import folium\n",
    "from folium import plugins\n",
    "from folium.plugins import HeatMap\n",
    "from folium.plugins import MarkerCluster\n",
    "\n",
    "import seaborn as sn\n",
    "#Maindf.at[2,'DISASTER_INDICATOR']='INSIDE EVENT AND BUFFER'\n",
    "waterfront=Maindf\n",
    "waterfront_map = folium.Map(location=[37.6, -95.665],\n",
    "                        zoom_start=4.35,\n",
    "                        tiles='openstreetmap')\n",
    "                        \n",
    "for i in waterfront.index:\n",
    "    lat = waterfront.AVS_LATITUDE[i]\n",
    "    long = waterfront.AVS_LONGITUDE[i]\n",
    "    if ( waterfront.DISASTER_INDICATOR[i]== 'INSIDE EVENT'):marker = folium.Marker([lat, long],icon=folium.Icon(color='red', icon='home', prefix='fa')).add_to(waterfront_map)\n",
    "    elif (waterfront.DISASTER_INDICATOR[i]== 'INSIDE EVENT AND BUFFER'):marker = folium.Marker([lat, long],icon=folium.Icon(color='orange', icon='home', prefix='fa')).add_to(waterfront_map)\n",
    "    else:marker = folium.Marker([lat, long],icon=folium.Icon(color='green', icon='home', prefix='fa')).add_to(waterfront_map)\n",
    "\n",
    "waterfront_map.save(outfile= \"test.html\")\n",
    "waterfront_map\n",
    "\n"
   ]
  },
  {
   "cell_type": "code",
   "execution_count": 8,
   "metadata": {},
   "outputs": [],
   "source": [
    "df=df2\n",
    "MODULE_PATH = \"E:/Batch_process_clients/property_report/__init__.py\"\n",
    "MODULE_NAME = \"property_report\"\n",
    "import importlib\n",
    "import sys\n",
    "spec = importlib.util.spec_from_file_location(MODULE_NAME, MODULE_PATH)\n",
    "module = importlib.util.module_from_spec(spec)\n",
    "sys.modules[spec.name] = module \n",
    "spec.loader.exec_module(module)"
   ]
  },
  {
   "cell_type": "code",
   "execution_count": 9,
   "metadata": {},
   "outputs": [],
   "source": [
    "\n",
    "from property_report import prop_report\n",
    "from property_report import config\n",
    "import os\n",
    "import pandas as pd\n",
    "# construct filename\n",
    "xl_dir = config.xl_in_dir\n",
    "xl_nm = xl_dir+config.xl_in_flnm\n",
    "Data = df2\n",
    "prop_rpt = prop_report.write_report(Data)\n",
    "prop_rpt.create_key_col()"
   ]
  },
  {
   "cell_type": "markdown",
   "metadata": {},
   "source": [
    "### create separate dataframe for Disaster_indicator = 'INSIDE EVENT'"
   ]
  },
  {
   "cell_type": "code",
   "execution_count": 10,
   "metadata": {},
   "outputs": [
    {
     "name": "stdout",
     "output_type": "stream",
     "text": [
      "INSIDE EVENT Diaster type has 0 properties\n"
     ]
    }
   ],
   "source": [
    "prop_rpt.In_event_prop =prop_rpt.create_prop_dataset('INSIDE EVENT')"
   ]
  },
  {
   "cell_type": "markdown",
   "metadata": {},
   "source": [
    "### create separate dataframe for Disaster_indicator = 'INSIDE BUFFER'"
   ]
  },
  {
   "cell_type": "code",
   "execution_count": 11,
   "metadata": {},
   "outputs": [
    {
     "name": "stdout",
     "output_type": "stream",
     "text": [
      "INSIDE BUFFER Diaster type has 0 properties\n"
     ]
    }
   ],
   "source": [
    "prop_rpt.In_buffer_prop =prop_rpt.create_prop_dataset('INSIDE BUFFER')"
   ]
  },
  {
   "cell_type": "markdown",
   "metadata": {},
   "source": [
    "### create separate dataframe for Disaster_indicator = 'OUTSIDE EVENT AND BUFFER'¶"
   ]
  },
  {
   "cell_type": "code",
   "execution_count": 12,
   "metadata": {},
   "outputs": [
    {
     "name": "stdout",
     "output_type": "stream",
     "text": [
      "OUTSIDE EVENT AND BUFFER Diaster type has 3 properties\n"
     ]
    }
   ],
   "source": [
    "prop_rpt.out_event_buffer_prop= prop_rpt.create_prop_dataset('OUTSIDE EVENT AND BUFFER')"
   ]
  },
  {
   "cell_type": "markdown",
   "metadata": {},
   "source": [
    "### create separate Aggregated dataframe for Disaster_indicator = 'INSIDE EVENT'"
   ]
  },
  {
   "cell_type": "code",
   "execution_count": 13,
   "metadata": {},
   "outputs": [
    {
     "name": "stdout",
     "output_type": "stream",
     "text": [
      "self.df['DISASTER_INDICATOR'].str.replace(,\n"
     ]
    }
   ],
   "source": [
    "prop_rpt.inEventAgg  = prop_rpt.prop_calculation(prop_rpt.In_event_prop)"
   ]
  },
  {
   "cell_type": "markdown",
   "metadata": {},
   "source": [
    "### create separate Aggregated dataframe for Disaster_indicator = 'INSIDE BUFFER'"
   ]
  },
  {
   "cell_type": "code",
   "execution_count": 14,
   "metadata": {},
   "outputs": [
    {
     "name": "stdout",
     "output_type": "stream",
     "text": [
      "self.df['DISASTER_INDICATOR'].str.replace(,\n"
     ]
    }
   ],
   "source": [
    "prop_rpt.inBufferAgg  =prop_rpt.prop_calculation(prop_rpt.In_buffer_prop)"
   ]
  },
  {
   "cell_type": "markdown",
   "metadata": {},
   "source": [
    "### create separate Aggregated dataframe for Disaster_indicator = 'OUTSIDE EVENT AND BUFFER'"
   ]
  },
  {
   "cell_type": "code",
   "execution_count": 15,
   "metadata": {},
   "outputs": [
    {
     "name": "stdout",
     "output_type": "stream",
     "text": [
      "self.df['DISASTER_INDICATOR'].str.replace(,\n"
     ]
    }
   ],
   "source": [
    "prop_rpt.out_evt_bfr  =prop_rpt.prop_calculation(prop_rpt.out_event_buffer_prop)"
   ]
  },
  {
   "cell_type": "markdown",
   "metadata": {},
   "source": [
    "### prepare property_report page"
   ]
  },
  {
   "cell_type": "code",
   "execution_count": 16,
   "metadata": {},
   "outputs": [],
   "source": [
    "prop_rpt.get_pivot()"
   ]
  },
  {
   "cell_type": "markdown",
   "metadata": {},
   "source": [
    "### remove existing .xlsx files from output folder configured in configure.py"
   ]
  },
  {
   "cell_type": "code",
   "execution_count": 17,
   "metadata": {},
   "outputs": [
    {
     "name": "stdout",
     "output_type": "stream",
     "text": [
      " ['property_disaster_report_20230130.xlsx'] files are removed\n"
     ]
    }
   ],
   "source": [
    "prop_rpt.file_cleanup()"
   ]
  },
  {
   "cell_type": "markdown",
   "metadata": {},
   "source": [
    "### Write report into excel with formatting"
   ]
  },
  {
   "cell_type": "code",
   "execution_count": 18,
   "metadata": {},
   "outputs": [
    {
     "name": "stdout",
     "output_type": "stream",
     "text": [
      "Report: E:/Batch_process_clients/property_disaster_report_20230206.xlsx is exported\n"
     ]
    },
    {
     "name": "stderr",
     "output_type": "stream",
     "text": [
      "C:\\ProgramData\\Anaconda3\\lib\\site-packages\\xlsxwriter\\worksheet.py:2902: UserWarning: Must have at least one data row in in add_table()\n",
      "  warn(\"Must have at least one data row in in add_table()\")\n",
      "C:\\ProgramData\\Anaconda3\\lib\\site-packages\\xlsxwriter\\worksheet.py:1437: UserWarning: Image file 'E:/Batch_process_clients/testmap.jpg' not found.\n",
      "  warn(\"Image file '%s' not found.\" % filename)\n"
     ]
    }
   ],
   "source": [
    "prop_rpt.write_excel()"
   ]
  },
  {
   "cell_type": "code",
   "execution_count": null,
   "metadata": {
    "collapsed": true
   },
   "outputs": [],
   "source": []
  }
 ],
 "metadata": {
  "kernelspec": {
   "display_name": "Python 3 (ipykernel)",
   "language": "python",
   "name": "python3"
  },
  "language_info": {
   "codemirror_mode": {
    "name": "ipython",
    "version": 3
   },
   "file_extension": ".py",
   "mimetype": "text/x-python",
   "name": "python",
   "nbconvert_exporter": "python",
   "pygments_lexer": "ipython3",
   "version": "3.9.7"
  }
 },
 "nbformat": 4,
 "nbformat_minor": 2
}
