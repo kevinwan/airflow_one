{
 "cells": [
  {
   "cell_type": "code",
   "execution_count": null,
   "id": "cc2abf3d",
   "metadata": {},
   "outputs": [],
   "source": [
    "import pysftp\n",
    "import sys\n",
    "import os\n",
    "import zipfile\n",
    "import pandas as pd\n",
    "import time\n",
    "import pysftp\n",
    "import sys\n",
    "import os\n",
    "import zipfile\n",
    "import pandas as pd\n",
    "import time\n",
    "import configparser\n",
    "import numpy as np\n",
    "import cx_Oracle as orcCon\n",
    "from cx_Oracle import DatabaseError\n",
    "import os\n",
    "import configparser\n",
    "os.chdir(r'C:\\\\Users\\\\svb')\n",
    "config = configparser.ConfigParser()\n",
    "# read the configuration file\n",
    "config.read('my_config.ini')\n",
    "# get all the connections\n",
    "config.sections()\n",
    "username = config.get('Srini_Oracle', 'username')\n",
    "password = config.get('Srini_Oracle', 'password')\n",
    "username_AVS = config.get('AVS_Oracle', 'username')\n",
    "password_AVS = config.get('AVS_Oracle', 'password')\n",
    "dsn_tns = orcCon.makedsn('DB.DEV.VV.VEROSAPPS.COM', '1521', service_name='vvdevdb_taf') #if needed, place an 'r' before any parameter in order to address any special character such as '\\'.\n",
    "conn = orcCon.connect(user=username_AVS, password=password_AVS, dsn=dsn_tns)\n"
   ]
  },
  {
   "cell_type": "code",
   "execution_count": 6,
   "id": "f45e4ea3",
   "metadata": {},
   "outputs": [],
   "source": [
    "## Below steps are data prep and AVS process\n",
    "cur = conn.cursor()\n",
    "cur.execute(\"truncate table SBHUPATHIRAJU.INPUT_VETERAN_AFFAIRS_STG\")\n",
    "cur.execute(\"INSERT INTO SBHUPATHIRAJU.INPUT_VETERAN_AFFAIRS_STG SELECT * FROM SBHUPATHIRAJU.INPUT_VETERAN_AFFAIRS_STG_new\")\n",
    "cur.execute(\"TRUNCATE TABLE SBHUPATHIRAJU.VA_STEP1\")\n",
    "cur.execute(\"TRUNCATE TABLE SBHUPATHIRAJU.VA_AVS_Merge\")\n",
    "cur.execute(\"TRUNCATE TABLE SBHUPATHIRAJU.VA_Step2_AVS_Part\")\n",
    "cur.execute(\"TRUNCATE TABLE SBHUPATHIRAJU.AVM_REQUEST_50K_AVS_2022_check\")\n",
    "with connection.cursor() as cursor:\n",
    "                # create a new variable to hold the value of the\n",
    "                # OUT parameter\n",
    "                order_count = cursor.var(int)\n",
    "                # call the stored procedure\n",
    "                cursor.callproc('TRY_DV_AVS_VA_PROCESS',[order_count])\n",
    "                return order_count.getvalue()\n",
    "\n",
    "conn.commit()"
   ]
  },
  {
   "cell_type": "code",
   "execution_count": 5,
   "id": "78ccad0c",
   "metadata": {},
   "outputs": [],
   "source": [
    "# Below step is to match with avm_info_main and get fips and seqno\n",
    "with connection.cursor() as cursor:\n",
    "                # create a new variable to hold the value of the\n",
    "                # OUT parameter\n",
    "                order_count = cursor.var(int)\n",
    "                # call the stored procedure\n",
    "                cursor.callproc('VA_process_fips_seqno',[order_count])\n",
    "                return order_count.getvalue()"
   ]
  },
  {
   "cell_type": "code",
   "execution_count": null,
   "id": "463ccc04",
   "metadata": {},
   "outputs": [],
   "source": [
    "cur.execute(\"INSERT INTO  SBHUPATHIRAJU.AVM_REQUEST_50K_AVS_2022_check SELECT * FROM SBHUPATHIRAJU.AVM_REQUEST_50K_AVS\")\n",
    "cur.execute(\"TRUNCATE  TABLE SBHUPATHIRAJU.AVM_REQUEST_50K_AVS\")"
   ]
  },
  {
   "cell_type": "code",
   "execution_count": null,
   "id": "11abfc2a",
   "metadata": {},
   "outputs": [],
   "source": [
    "with connection.cursor() as cursor:\n",
    "                # create a new variable to hold the value of the\n",
    "                # OUT parameter\n",
    "                order_count = cursor.var(int)\n",
    "                # call the stored procedure\n",
    "                cursor.callproc('VA_process_A16',[order_count])\n",
    "                return order_count.getvalue()"
   ]
  },
  {
   "cell_type": "code",
   "execution_count": null,
   "id": "68d4aef4",
   "metadata": {},
   "outputs": [],
   "source": [
    "### please execute below command on oracle or ask Peter to execute\n",
    "\n",
    "call VEROSDQ.UPD_A16_CUSTOM (0,90000,'dummy')"
   ]
  },
  {
   "cell_type": "code",
   "execution_count": null,
   "id": "2fe3826c",
   "metadata": {},
   "outputs": [],
   "source": [
    "cur.execute(\"TRUNCATE TABLE SBHUPATHIRAJU.VA_Step3\")"
   ]
  },
  {
   "cell_type": "code",
   "execution_count": null,
   "id": "a7bcfbc1",
   "metadata": {},
   "outputs": [],
   "source": [
    "with connection.cursor() as cursor:\n",
    "                # create a new variable to hold the value of the\n",
    "                # OUT parameter\n",
    "                order_count = cursor.var(int)\n",
    "                # call the stored procedure\n",
    "                cursor.callproc('VA_process_A15',[order_count])\n",
    "                return order_count.getvalue()"
   ]
  }
 ],
 "metadata": {
  "kernelspec": {
   "display_name": "Python 3 (ipykernel)",
   "language": "python",
   "name": "python3"
  },
  "language_info": {
   "codemirror_mode": {
    "name": "ipython",
    "version": 3
   },
   "file_extension": ".py",
   "mimetype": "text/x-python",
   "name": "python",
   "nbconvert_exporter": "python",
   "pygments_lexer": "ipython3",
   "version": "3.9.7"
  }
 },
 "nbformat": 4,
 "nbformat_minor": 5
}
