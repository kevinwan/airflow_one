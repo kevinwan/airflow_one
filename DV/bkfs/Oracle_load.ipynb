{
 "cells": [
  {
   "cell_type": "code",
   "execution_count": 1,
   "id": "168da256",
   "metadata": {},
   "outputs": [],
   "source": [
    "import sys\n",
    "import os\n",
    "os.chdir(r'E:\\BKFS_Daily_check\\Check_folder')"
   ]
  },
  {
   "cell_type": "code",
   "execution_count": 2,
   "id": "597be11d",
   "metadata": {},
   "outputs": [],
   "source": [
    "## This command move the DV file genearted for BKFS to convert pipe delimiter and load ito oracle\n",
    "\n",
    "with open('Demo1.txt', 'r') as orig, open(r'E:\\BKFS_Daily_check\\Oracle_load\\bkfsdv.txt', 'w') as out:\n",
    "  out.write(orig.read().replace('\\t', '|'))"
   ]
  },
  {
   "cell_type": "code",
   "execution_count": 3,
   "id": "f1a7d1ce",
   "metadata": {},
   "outputs": [
    {
     "data": {
      "text/plain": [
       "0"
      ]
     },
     "execution_count": 3,
     "metadata": {},
     "output_type": "execute_result"
    }
   ],
   "source": [
    "## this command call the SQLlDR to load the Dv daily data into oracle\n",
    "import os\n",
    "import configparser\n",
    "import cx_Oracle as orcCon\n",
    "from cx_Oracle import DatabaseError\n",
    "# get all the connections\n",
    "username_AVS = 'verosdq'\n",
    "password_AVS = 'verosdqrac'\n",
    "SQL_LOAD=r'sqlldr userid='+username_AVS+'/\\\\\"'+password_AVS+'\\\\\"@\\\\\"(DESCRIPTION =(ADDRESS = (PROTOCOL = TCP)(HOST = DB.DEV.VV.VEROSAPPS.COM)(PORT = 1521))(CONNECT_DATA =(SERVICE_NAME = VVDEVDB_TAF)))\\\\\" control=E:\\SQLLDR\\DV_BKFS.CTL'\n",
    "os.system(SQL_LOAD)"
   ]
  },
  {
   "cell_type": "code",
   "execution_count": 4,
   "id": "0eee4b3c",
   "metadata": {},
   "outputs": [],
   "source": [
    "import os\n",
    "import configparser\n",
    "import cx_Oracle as orcCon\n",
    "from cx_Oracle import DatabaseError\n",
    "# get all the connections\n",
    "username_AVS = 'verosdq'\n",
    "password_AVS = 'verosdqrac'\n",
    "dsn_tns = orcCon.makedsn('DB.DEV.VV.VEROSAPPS.COM', '1521', service_name='vvdevdb_taf') #if needed, place an 'r' before any parameter in order to address any special character such as '\\'.\n",
    "conn = orcCon.connect(user=username_AVS, password=password_AVS, dsn=dsn_tns)"
   ]
  },
  {
   "cell_type": "code",
   "execution_count": 5,
   "id": "835010ef",
   "metadata": {},
   "outputs": [],
   "source": [
    "## truncation of DV table use for Snowflake load \n",
    "cur = conn.cursor()\n",
    "cur.execute(\"truncate table DISASTERVISION.BKFS_2021_MASTER_SF\")\n",
    "cur.execute(\"truncate table DISASTERVISION.DISASTER_FIPS_SEQ\")\n",
    "cur.execute(\"truncate table DISASTERVISION.FEMA_DECLARATIONS_STAGE\")\n",
    "conn.commit()"
   ]
  },
  {
   "cell_type": "code",
   "execution_count": 6,
   "id": "dfbb00dd",
   "metadata": {},
   "outputs": [],
   "source": [
    "import csv\n",
    "import cx_Oracle\n",
    "import os\n",
    "def BKFS_2021_MASTER_load():\n",
    "    try:\n",
    "        # create a connection to the Oracle Database\n",
    "        dsn_tns = cx_Oracle.makedsn('DB.DEV.VV.VEROSAPPS.COM', '1521', service_name='vvdevdb_taf') #if needed, place an 'r' before any parameter in order to address any special character such as '\\'.\n",
    "        with cx_Oracle.connect(user=username_AVS, password=password_AVS, dsn=dsn_tns) as connection:\n",
    "            # create a new cursor\n",
    "            with connection.cursor() as cursor:\n",
    "                # create a new variable to hold the value of the\n",
    "                # OUT parameter\n",
    "                order_count = cursor.var(int)\n",
    "                # call the stored procedure\n",
    "                cursor.callproc('BKFS_2021_MASTER_load',[order_count])\n",
    "                return order_count.getvalue()\n",
    "    except cx_Oracle.Error as error:\n",
    "        print(error)"
   ]
  },
  {
   "cell_type": "code",
   "execution_count": 7,
   "id": "8f1ad159",
   "metadata": {},
   "outputs": [
    {
     "name": "stdout",
     "output_type": "stream",
     "text": [
      "18309885\n"
     ]
    }
   ],
   "source": [
    "if __name__ == '__main__':\n",
    "   orders = BKFS_2021_MASTER_load()\n",
    "   print(orders)  # 3"
   ]
  },
  {
   "cell_type": "code",
   "execution_count": null,
   "id": "49bd5973",
   "metadata": {},
   "outputs": [],
   "source": [
    "## Stop Here, the rest is automated to run weekly once on monday"
   ]
  },
  {
   "cell_type": "code",
   "execution_count": null,
   "id": "ab510549",
   "metadata": {},
   "outputs": [],
   "source": [
    "## download the fema summary file from location https://www.fema.gov/api/open/v2/DisasterDeclarationsSummaries.csv to E:\\"
   ]
  },
  {
   "cell_type": "code",
   "execution_count": null,
   "id": "af2df39f",
   "metadata": {},
   "outputs": [],
   "source": [
    "import os\n",
    "import configparser\n",
    "import cx_Oracle as orcCon\n",
    "from cx_Oracle import DatabaseError\n",
    "# get all the connections\n",
    "username_AVS = 'verosdq'\n",
    "password_AVS = 'verosdqrac'\n",
    "SQL_LOAD=r'sqlldr userid='+username_AVS+'/\\\\\"'+password_AVS+'\\\\\"@\\\\\"(DESCRIPTION =(ADDRESS = (PROTOCOL = TCP)(HOST = DB.DEV.VV.VEROSAPPS.COM)(PORT = 1521))(CONNECT_DATA =(SERVICE_NAME = VVDEVDB_TAF)))\\\\\" control=E:\\SQLLDR\\Disaster_FEMA.CTL'\n",
    "os.system(SQL_LOAD)"
   ]
  }
 ],
 "metadata": {
  "kernelspec": {
   "display_name": "Python 3 (ipykernel)",
   "language": "python",
   "name": "python3"
  },
  "language_info": {
   "codemirror_mode": {
    "name": "ipython",
    "version": 3
   },
   "file_extension": ".py",
   "mimetype": "text/x-python",
   "name": "python",
   "nbconvert_exporter": "python",
   "pygments_lexer": "ipython3",
   "version": "3.9.7"
  }
 },
 "nbformat": 4,
 "nbformat_minor": 5
}
