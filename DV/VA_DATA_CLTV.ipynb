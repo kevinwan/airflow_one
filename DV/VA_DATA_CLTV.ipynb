{
 "cells": [
  {
   "cell_type": "code",
   "execution_count": 19,
   "id": "cc2abf3d",
   "metadata": {},
   "outputs": [],
   "source": [
    "import pysftp\n",
    "import sys\n",
    "import os\n",
    "import zipfile\n",
    "import pandas as pd\n",
    "import time\n",
    "import pysftp\n",
    "import sys\n",
    "import os\n",
    "import zipfile\n",
    "import pandas as pd\n",
    "import time\n",
    "import configparser\n",
    "import numpy as np\n",
    "import cx_Oracle as orcCon\n",
    "from cx_Oracle import DatabaseError\n",
    "import os\n",
    "import configparser\n",
    "os.chdir(r'C:\\\\Users\\\\svb')\n",
    "config = configparser.ConfigParser()\n",
    "# read the configuration file\n",
    "config.read('my_config.ini')\n",
    "# get all the connections\n",
    "config.sections()\n",
    "username = config.get('Srini_Oracle', 'username')\n",
    "password = config.get('Srini_Oracle', 'password')\n",
    "username_AVS = config.get('AVS_Oracle', 'username')\n",
    "password_AVS = config.get('AVS_Oracle', 'password')\n",
    "dsn_tns = orcCon.makedsn('DB.DEV.VV.VEROSAPPS.COM', '1521', service_name='vvdevdb_taf') #if needed, place an 'r' before any parameter in order to address any special character such as '\\'.\n",
    "conn = orcCon.connect(user=username_AVS, password=password_AVS, dsn=dsn_tns)\n"
   ]
  },
  {
   "cell_type": "code",
   "execution_count": 6,
   "id": "f45e4ea3",
   "metadata": {},
   "outputs": [],
   "source": [
    "## Below steps are data prep and AVS process\n",
    "cur = conn.cursor()\n",
    "cur.execute(\"truncate table SBHUPATHIRAJU.INPUT_VETERAN_AFFAIRS_STG\")\n",
    "cur.execute(\"INSERT INTO SBHUPATHIRAJU.INPUT_VETERAN_AFFAIRS_STG SELECT * FROM SBHUPATHIRAJU.INPUT_VETERAN_AFFAIRS_STG_new\")\n",
    "cur.execute(\"TRUNCATE TABLE SBHUPATHIRAJU.VA_STEP1\")\n",
    "cur.execute(\"TRUNCATE TABLE SBHUPATHIRAJU.VA_AVS_Merge\")\n",
    "cur.execute(\"TRUNCATE TABLE SBHUPATHIRAJU.VA_Step2_AVS_Part\")\n",
    "cur.execute(\"TRUNCATE TABLE SBHUPATHIRAJU.AVM_REQUEST_50K_AVS_2022_check\")\n",
    "conn.commit()"
   ]
  },
  {
   "cell_type": "code",
   "execution_count": null,
   "id": "6d62f9a7",
   "metadata": {},
   "outputs": [],
   "source": [
    "import os\n",
    "import configparser\n",
    "config = configparser.ConfigParser()\n",
    "# read the configuration file\n",
    "config.read('my_config.ini')\n",
    "# get all the connections\n",
    "config.sections()\n",
    "username = config.get('Srini_Oracle', 'username')\n",
    "password = config.get('Srini_Oracle', 'password')\n",
    "username_AVS = config.get('AVS_Oracle', 'username')\n",
    "password_AVS = config.get('AVS_Oracle', 'password')\n",
    "SQL_LOAD=r'sqlldr userid='+username_AVS+'/\\\\\"'+password_AVS+'\\\\\"@\\\\\"(DESCRIPTION =(ADDRESS = (PROTOCOL = TCP)(HOST = DB.DEV.VV.VEROSAPPS.COM)(PORT = 1521))(CONNECT_DATA =(SERVICE_NAME = VVDEVDB_TAF)))\\\\\" control=E:\\SQLLDR\\VA_INPUT.CTL'\n",
    "os.system(SQL_LOAD)"
   ]
  },
  {
   "cell_type": "code",
   "execution_count": 12,
   "id": "50bc2408",
   "metadata": {},
   "outputs": [],
   "source": [
    "import csv\n",
    "import cx_Oracle\n",
    "import os\n",
    "def TRY_DV_AVS_VA_PROCESS():\n",
    "    try:\n",
    "        # create a connection to the Oracle Database\n",
    "        dsn_tns = cx_Oracle.makedsn('DB.DEV.VV.VEROSAPPS.COM', '1521', service_name='vvdevdb_taf') #if needed, place an 'r' before any parameter in order to address any special character such as '\\'.\n",
    "        with cx_Oracle.connect(user=username_AVS, password=password_AVS, dsn=dsn_tns) as connection:\n",
    "            # create a new cursor\n",
    "            with connection.cursor() as cursor:\n",
    "                # create a new variable to hold the value of the\n",
    "                # OUT parameter\n",
    "                order_count = cursor.var(int)\n",
    "                # call the stored procedure\n",
    "                cursor.callproc('TRY_DV_AVS_VA_PROCESS',[order_count])\n",
    "                return order_count.getvalue()\n",
    "    except cx_Oracle.Error as error:\n",
    "        print(error)"
   ]
  },
  {
   "cell_type": "code",
   "execution_count": 15,
   "id": "25892190",
   "metadata": {},
   "outputs": [],
   "source": [
    "import csv\n",
    "import cx_Oracle\n",
    "import os\n",
    "def VA_process_fips_seqno():\n",
    "    try:\n",
    "        # create a connection to the Oracle Database\n",
    "        dsn_tns = cx_Oracle.makedsn('DB.DEV.VV.VEROSAPPS.COM', '1521', service_name='vvdevdb_taf') #if needed, place an 'r' before any parameter in order to address any special character such as '\\'.\n",
    "        with cx_Oracle.connect(user=username_AVS, password=password_AVS, dsn=dsn_tns) as connection:\n",
    "            # create a new cursor\n",
    "            with connection.cursor() as cursor:\n",
    "                # create a new variable to hold the value of the\n",
    "                # OUT parameter\n",
    "                order_count = cursor.var(int)\n",
    "                # call the stored procedure\n",
    "                cursor.callproc('VA_process_fips_seqno',[order_count])\n",
    "                return order_count.getvalue()\n",
    "    except cx_Oracle.Error as error:\n",
    "        print(error)"
   ]
  },
  {
   "cell_type": "code",
   "execution_count": 31,
   "id": "3fdb0973",
   "metadata": {},
   "outputs": [],
   "source": [
    "import csv\n",
    "import cx_Oracle\n",
    "import os\n",
    "def Try_dv_avs_va_process_count_check():\n",
    "    try:\n",
    "        # create a connection to the Oracle Database\n",
    "        dsn_tns = cx_Oracle.makedsn('DB.DEV.VV.VEROSAPPS.COM', '1521', service_name='vvdevdb_taf') #if needed, place an 'r' before any parameter in order to address any special character such as '\\'.\n",
    "        with cx_Oracle.connect(user=username_AVS, password=password_AVS, dsn=dsn_tns) as connection:\n",
    "            # create a new cursor\n",
    "            with connection.cursor() as cursor:\n",
    "                # create a new variable to hold the value of the\n",
    "                # OUT parameter\n",
    "                order_count = cursor.var(int)\n",
    "                # call the stored procedure\n",
    "                cursor.callproc('Try_dv_avs_va_process_count_check',[order_count])\n",
    "                return order_count.getvalue()\n",
    "    except cx_Oracle.Error as error:\n",
    "        print(error)"
   ]
  },
  {
   "cell_type": "code",
   "execution_count": 32,
   "id": "4e2b4dae",
   "metadata": {},
   "outputs": [],
   "source": [
    "import csv\n",
    "import cx_Oracle\n",
    "import os\n",
    "def VA_process_A16():\n",
    "    try:\n",
    "        # create a connection to the Oracle Database\n",
    "        dsn_tns = cx_Oracle.makedsn('DB.DEV.VV.VEROSAPPS.COM', '1521', service_name='vvdevdb_taf') #if needed, place an 'r' before any parameter in order to address any special character such as '\\'.\n",
    "        with cx_Oracle.connect(user=username_AVS, password=password_AVS, dsn=dsn_tns) as connection:\n",
    "            # create a new cursor\n",
    "            with connection.cursor() as cursor:\n",
    "                # create a new variable to hold the value of the\n",
    "                # OUT parameter\n",
    "                order_count = cursor.var(int)\n",
    "                # call the stored procedure\n",
    "                cursor.callproc('VA_process_A16',[order_count])\n",
    "                return order_count.getvalue()\n",
    "    except cx_Oracle.Error as error:\n",
    "        print(error)"
   ]
  },
  {
   "cell_type": "code",
   "execution_count": 17,
   "id": "f58e1bb3",
   "metadata": {},
   "outputs": [
    {
     "name": "stdout",
     "output_type": "stream",
     "text": [
      "34135\n"
     ]
    }
   ],
   "source": [
    "if __name__ == '__main__':\n",
    "   orders = TRY_DV_AVS_VA_PROCESS()\n",
    "   print(orders)  # 3"
   ]
  },
  {
   "cell_type": "code",
   "execution_count": 23,
   "id": "d991c157",
   "metadata": {},
   "outputs": [
    {
     "name": "stdout",
     "output_type": "stream",
     "text": [
      "34135\n"
     ]
    }
   ],
   "source": [
    "if __name__ == '__main__':\n",
    "   orders = Try_dv_avs_va_process_count_check()\n",
    "   print(orders)  # 3"
   ]
  },
  {
   "cell_type": "code",
   "execution_count": 29,
   "id": "981ba576",
   "metadata": {},
   "outputs": [
    {
     "name": "stdout",
     "output_type": "stream",
     "text": [
      "41022\n"
     ]
    }
   ],
   "source": [
    "if __name__ == '__main__':\n",
    "   orders = VA_process_fips_seqno()\n",
    "   print(orders)  # 3"
   ]
  },
  {
   "cell_type": "code",
   "execution_count": null,
   "id": "5787c4c6",
   "metadata": {},
   "outputs": [],
   "source": [
    "if __name__ == '__main__':\n",
    "   orders = VA_process_A16()\n",
    "   print(orders)  # 3"
   ]
  },
  {
   "cell_type": "code",
   "execution_count": 2,
   "id": "fa9e6cee",
   "metadata": {},
   "outputs": [
    {
     "data": {
      "text/plain": [
       "4"
      ]
     },
     "execution_count": 2,
     "metadata": {},
     "output_type": "execute_result"
    }
   ],
   "source": [
    "import os\n",
    "import configparser\n",
    "config = configparser.ConfigParser()\n",
    "# read the configuration file\n",
    "config.read('my_config.ini')\n",
    "# get all the connections\n",
    "config.sections()\n",
    "username = config.get('Srini_Oracle', 'username')\n",
    "password = config.get('Srini_Oracle', 'password')\n",
    "username_AVS = config.get('AVS_Oracle', 'username')\n",
    "password_AVS = config.get('AVS_Oracle', 'password')\n",
    "SQL_LOAD=r'sqlldr userid='+username_AVS+'/\\\\\"'+password_AVS+'\\\\\"@\\\\\"(DESCRIPTION =(ADDRESS = (PROTOCOL = TCP)(HOST = DB.DEV.VV.VEROSAPPS.COM)(PORT = 1521))(CONNECT_DATA =(SERVICE_NAME = VVDEVDB_TAF)))\\\\\" control=E:\\SQLLDR\\VA_INPUT.CTL'\n",
    "os.system(SQL_LOAD)"
   ]
  },
  {
   "cell_type": "code",
   "execution_count": 5,
   "id": "c4d49ad1",
   "metadata": {},
   "outputs": [
    {
     "data": {
      "text/plain": [
       "'C:\\\\Users\\\\svb'"
      ]
     },
     "execution_count": 5,
     "metadata": {},
     "output_type": "execute_result"
    }
   ],
   "source": [
    "import os\n",
    "os.getcwd()"
   ]
  },
  {
   "cell_type": "code",
   "execution_count": null,
   "id": "7358f0b3",
   "metadata": {},
   "outputs": [],
   "source": [
    "cur.execute(\"truncate table SBHUPATHIRAJU.INPUT_VETERAN_AFFAIRS_STG\")\n",
    "cur.execute(\"INSERT INTO SBHUPATHIRAJU.INPUT_VETERAN_AFFAIRS_STG SELECT * FROM SBHUPATHIRAJU.INPUT_VETERAN_AFFAIRS_STG_new\")\n",
    "cur.execute(\"TRUNCATE TABLE SBHUPATHIRAJU.VA_STEP1\")\n",
    "cur.execute(\"TRUNCATE TABLE SBHUPATHIRAJU.VA_AVS_Merge\")\n",
    "cur.execute(\"TRUNCATE TABLE SBHUPATHIRAJU.VA_Step2_AVS_Part\")\n",
    "cur.execute(\"TRUNCATE TABLE SBHUPATHIRAJU.AVM_REQUEST_50K_AVS_2022_check\")"
   ]
  },
  {
   "cell_type": "code",
   "execution_count": 5,
   "id": "78ccad0c",
   "metadata": {},
   "outputs": [],
   "source": [
    "# Below step is to match with avm_info_main and get fips and seqno\n",
    "with connection.cursor() as cursor:\n",
    "                # create a new variable to hold the value of the\n",
    "                # OUT parameter\n",
    "                order_count = cursor.var(int)\n",
    "                # call the stored procedure\n",
    "                cursor.callproc('VA_process_fips_seqno',[order_count])\n",
    "                return order_count.getvalue()"
   ]
  },
  {
   "cell_type": "code",
   "execution_count": 26,
   "id": "463ccc04",
   "metadata": {},
   "outputs": [],
   "source": [
    "cur.execute(\"INSERT INTO  SBHUPATHIRAJU.AVM_REQUEST_50K_AVS_2022_check SELECT * FROM SBHUPATHIRAJU.AVM_REQUEST_50K_AVS\")\n",
    "##cur.execute(\"TRUNCATE  TABLE SBHUPATHIRAJU.AVM_REQUEST_50K_AVS\")"
   ]
  },
  {
   "cell_type": "code",
   "execution_count": null,
   "id": "11abfc2a",
   "metadata": {},
   "outputs": [],
   "source": [
    "with connection.cursor() as cursor:\n",
    "                # create a new variable to hold the value of the\n",
    "                # OUT parameter\n",
    "                order_count = cursor.var(int)\n",
    "                # call the stored procedure\n",
    "                cursor.callproc('VA_process_A16',[order_count])\n",
    "                return order_count.getvalue()"
   ]
  },
  {
   "cell_type": "code",
   "execution_count": null,
   "id": "68d4aef4",
   "metadata": {},
   "outputs": [],
   "source": [
    "### please execute below command on oracle or ask Peter to execute\n",
    "\n",
    "call VEROSDQ.UPD_A16_CUSTOM (0,90000,'dummy')"
   ]
  },
  {
   "cell_type": "code",
   "execution_count": null,
   "id": "2fe3826c",
   "metadata": {},
   "outputs": [],
   "source": [
    "cur.execute(\"TRUNCATE TABLE SBHUPATHIRAJU.VA_Step3\")"
   ]
  },
  {
   "cell_type": "code",
   "execution_count": null,
   "id": "a7bcfbc1",
   "metadata": {},
   "outputs": [],
   "source": [
    "with connection.cursor() as cursor:\n",
    "                # create a new variable to hold the value of the\n",
    "                # OUT parameter\n",
    "                order_count = cursor.var(int)\n",
    "                # call the stored procedure\n",
    "                cursor.callproc('VA_process_A15',[order_count])\n",
    "                return order_count.getvalue()"
   ]
  }
 ],
 "metadata": {
  "kernelspec": {
   "display_name": "Python 3 (ipykernel)",
   "language": "python",
   "name": "python3"
  },
  "language_info": {
   "codemirror_mode": {
    "name": "ipython",
    "version": 3
   },
   "file_extension": ".py",
   "mimetype": "text/x-python",
   "name": "python",
   "nbconvert_exporter": "python",
   "pygments_lexer": "ipython3",
   "version": "3.9.7"
  }
 },
 "nbformat": 4,
 "nbformat_minor": 5
}
